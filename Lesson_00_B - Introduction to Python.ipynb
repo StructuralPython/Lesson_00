{
 "cells": [
  {
   "cell_type": "markdown",
   "id": "d3e128f1-06c0-435e-ad60-bb03787705b5",
   "metadata": {},
   "source": [
    "# Lesson 00 - Introduction to Python 🐍"
   ]
  },
  {
   "cell_type": "markdown",
   "id": "af177b89-7b81-4845-b5e3-78b6890a5a35",
   "metadata": {},
   "source": [
    "To start, I am just going to show you some basic Python code. Please read it and see if you can get an intuitive grasp of what might be happening.\n",
    "\n",
    "I expect that if you have previous programming experience, the intuition may come quickly. If you do not have prior programming experience, I expect that just the simplicity of the Python language will allow you to come to a similar intuitive grasp of what the code does.\n",
    "\n",
    "Afterwards, I will break-down what is happening so we can all have a common understanding."
   ]
  },
  {
   "cell_type": "markdown",
   "id": "49d29b11-ac19-460c-a8aa-8ae0447784a2",
   "metadata": {},
   "source": [
    "## Example Python code\n",
    "\n",
    "> Note: I am intentionally using long variable names to prevent any confusion between different symbol conventions. e.g. In Canada we use the symbols S and Z to refer to the elastic section modulus and plastic modulus respectively. Whereas in Australia, I believe they use the opposite (Z is for the elastic modulus). In Europe, I think it is common to use W for the elastic modulus. So, I kept things simple by spelling out what I mean for each variable name."
   ]
  },
  {
   "cell_type": "markdown",
   "id": "1bb4030c-8958-44c6-ac17-8c34127dc6bd",
   "metadata": {},
   "source": [
    "```python\n",
    "rectangular_section_width = 200 # mm\n",
    "rectangular_section_height = 800 # mm\n",
    "phi = 0.9\n",
    "yield_strength = 400 # MPa\n",
    "\n",
    "rectangular_section_area = rectangular_section_width * rectangular_section_height\n",
    "rectangular_section_modulus = rectangular_section_width * rectangular_section_height**2 / 6\n",
    "\n",
    "tension_resistance = phi * rectangular_section_area * yield_strength\n",
    "moment_resistance = phi * rectangular_section_modulus * yield_strength\n",
    "\n",
    "print(f\"The tensile resistance of the section is {tension_resistance}.\")\n",
    "print(f\"The moment resistance of the section is {moment_resistance}.\")\n",
    "```\n",
    "\n",
    "> After you have read through the code above and are confident on your understanding, copy and paste the code into the cell below (you can highlight it from Command Mode and use regular Ctrl+c and Ctrl+v). After you have pasted it, type `Shift+Enter` to run the cell and see the result.\n",
    ">\n",
    "> Try changing some of the values and re-running the cell with `Shift+Enter`"
   ]
  },
  {
   "cell_type": "code",
   "execution_count": null,
   "id": "3f0a1eb8-9577-4442-ae44-7d6bbd0b8d04",
   "metadata": {},
   "outputs": [],
   "source": []
  },
  {
   "cell_type": "markdown",
   "id": "b6e005ed-7652-4a07-95dc-f868251b19d8",
   "metadata": {},
   "source": [
    "## Breakdown"
   ]
  },
  {
   "attachments": {
    "75b0ff3a-96c8-4ddf-8d54-4727e13eeaf7.png": {
     "image/png": "[encoded data removed]"
    }
   },
   "cell_type": "markdown",
   "id": "27b04061-a680-4fb7-87d2-3161aa3b2e0f",
   "metadata": {},
   "source": [
    "Ok, this was fairly simple, do you agree? But I want to bring your attention to **five** things:\n",
    "\n",
    "### 1. Variable assignment\n",
    "\n",
    "`=` is known as the \"assignment operator\". We use it _define a variable_ and, at the same time, _assign a value_ to that variable. Python is different than some other programming languages because we do not have to say what _type_ of data is going to be in the variable. For example, in Visual Basic for Applications (VBA), we might define a variable like this:\n",
    "```vba\n",
    "dim rectangular_section_width Integer\n",
    "rectangular_section_width = 200\n",
    "```\n",
    "In VBA, we have to say, upfront, that the variable `rectangular_section_width` is going to be an integer. **However, in Python, we do not have to make this kind of type declaration. We simply define the variable with whatever data we want.**\n",
    "\n",
    "> This characteristic of Python is called _dynamic typing_ and is in contrast to _static typing_ like we saw in the VBA example.\n",
    "\n",
    "### 2. Comments\n",
    "\n",
    "Do you see where the `# mm` is? In Python, `#` is a character to denote when a comment starts. A comment is text that is not as interpreted as code. In other words, the Python interpreter essentially stops reading the line once it sees that character. Any text after the `#` will not be interpreted as Python code and can be used to communicate our intentions to the reader of the code (i.e. another human).\n",
    "\n",
    "> In some other programming languages, it is common to do things like add a comment for every line of code to explain what it does.\n",
    "> \n",
    "> **This is not necessary in Python and should not be done.**\n",
    "> \n",
    "> Why? The Python language is designed to be easy to read and understand because it does not contain very many symbols (by comparison). Comments _are_ used frequently in Python but they are used more sparingly and to communicate _reasoning_, _intention_, or _assumptions_,  that are not apparent in the code itself, as opposed to explaining what the code does.\n",
    "\n",
    "### 3. Arithmetic operators\n",
    "\n",
    "`*` used as a multiplication operator is common amongst programming languages, including spreadsheets. However, what does `**` mean? In Python, `**` is used for exponentiation, raising to a power. Here are all of the arithmetic operators in Python:\n",
    "\n",
    "```python\n",
    "+ # Addition\n",
    "- # Subtraction\n",
    "* # Multiplication\n",
    "** # Exponentiation\n",
    "/ # Division (\"True division\")\n",
    "// # Floor division\n",
    "% # Modulo\n",
    "```\n",
    "\n",
    "#### How do floor division and modulo work?\n",
    "\n",
    "![image.png](attachment:75b0ff3a-96c8-4ddf-8d54-4727e13eeaf7.png)\n",
    "\n",
    "_Source: https://blog.teclado.com/pythons-modulo-operator-and-floor-division/_\n",
    "\n",
    "* Floor division returns the integer quotient\n",
    "* Modulo returns the returns the remainder\n",
    "\n",
    "> Both floor division and modulo are important for programming so make a mental note of what they do. We will be using them in later lessons.\n",
    "\n",
    "#### Why can't Python use `^` for exponentiation like a _normal_ programming language?!\n",
    "\n",
    "Python does use `^` but is assigned to a different operation. It is called a \"bitwise\" operation and `^` is used for \"symmetric difference\", also-known-as \"XOR\". We will also be using this in a later lesson when we look at sets and set operations."
   ]
  },
  {
   "cell_type": "markdown",
   "id": "920986b2-76e7-48c5-8e1c-b4b0c030a772",
   "metadata": {},
   "source": [
    "## 4. Function calls\n",
    "\n",
    "Do you see where we _call_ the `print` function? It's on the last two lines.\n",
    "\n",
    "Much of this course is based upon using functions. Briefly, a function is a pre-defined process that is assigned a name. In this case, we are using the built-in function called `print`. `print` is its name. Think of it as being a variable that is pre-defined in Python to represent the internal process that outputs to the screen. \n",
    "\n",
    "To _call_ the function, or to utilize it, we must use parentheses `()` after the name. When Python sees the parentheses immediately after a variable name, it tries to \"call\" it or \"execute\" it.\n",
    "\n",
    "Try copy and pasting each line of code separately into the code cell below and running it to see what happens.\n",
    "\n",
    "```python\n",
    "print\n",
    "```\n",
    "\n",
    "Then try running:\n",
    "\n",
    "```python\n",
    "print \"column\"\n",
    "```\n",
    "\n",
    "Now try running:\n",
    "\n",
    "```python\n",
    "print(\"column\")\n",
    "```\n",
    "\n",
    "Last, try running:\n",
    "\n",
    "```python\n",
    "rectangular_section_width(\"column\")\n",
    "```"
   ]
  },
  {
   "cell_type": "code",
   "execution_count": null,
   "id": "81ba7c1c-e1e5-4dbe-a3f4-9a69098a794d",
   "metadata": {},
   "outputs": [],
   "source": []
  },
  {
   "cell_type": "markdown",
   "id": "04e7ee85-d93b-404a-9ce5-9dd43783b4b4",
   "metadata": {},
   "source": [
    "---"
   ]
  },
  {
   "cell_type": "markdown",
   "id": "0590b40d-037b-41dc-94de-f556417a4d05",
   "metadata": {},
   "source": [
    "Do you see the difference? In the first line, you are telling Python to \"return\" to you the variable `print` as the output of the cell. As a result, it tells you that `print` is the function called \"print\".\n",
    "\n",
    "In the second line, you are using incorrect Python syntax. You are simply refering to the `print` function and then typing some text beside it (text data is known as \"string\" data, for \"string of characters\"). In other words, the two things are not connected in anyway. Python even tells you that this is incorrect syntax and offers a suggestion.\n",
    "\n",
    "In the third line, you are using parentheses to _call_ the function `print` _and_ you are _passing arguments_ (data) for it to use during the execution. With the input of `\"column\"`, you see the text of `column` in the output cell.\n",
    "\n",
    "In the last line, you are trying to treat the variable named `rectangular_section_width`, which currently represents the integer `200`, as a function by trying to call it. Naturally, this does not work because `rectangular_section_width` is currently assigned the value of `200`, which is an integer and not a function and cannot be called. Therefore, `TypeError: 'int' object is not callable`.\n",
    "\n",
    "> See **Addendum** (below) for a list of all Python built-in functions"
   ]
  },
  {
   "cell_type": "markdown",
   "id": "9bb5a84e-7fa6-44d7-9cdc-2cb063c5b90d",
   "metadata": {},
   "source": [
    "---"
   ]
  },
  {
   "cell_type": "markdown",
   "id": "20f242f1-66f9-4668-8aab-bed4cda5035b",
   "metadata": {},
   "source": [
    "## 5. Naming and capitalization conventions\n",
    "\n",
    "In Python, we follow these conventions:\n",
    "\n",
    "* Variable and function names are in \"snake_case\" (all lower case with underscores separating words)\n",
    "* Class names are in \"TitleCase\" (combination of upper and lower case using capitalization at the beginning of each word; underscores are not used)\n",
    "     * You will be introduced to classes and class names in Lesson 05     \n",
    "\n",
    "Many other programming languages use \"camelCase\", where the first word is lower case and the following words are capitalized. We do not use this in Python. Why not? Because snake_case_is_more_natural_to_read_as_common_language and because camelCaseIsHarderBothToReadAndToType.\n",
    "\n",
    "So, if you are coming from another programming language and are in the habit of writing in camelCase, I recommend trying to switch to snake_case while you are programming Python. If you have little or no programming experience, then_it_should_be_fairly_easy_to_pick_up_snake_case.\n",
    "\n",
    "> These conventions have been formalized in the document known as \"PEP 8\" (Python Enhancment Proposal #8: Python style guide) and it contains recommendations on what your Python code should generally look like. https://peps.python.org/pep-0008/. **NOTE**: Don't read this. Just scroll through it skimmingly to get the general idea in about 60 seconds. If you _really_ want to read it though, I won't stop you. (Yes, I have read it)\n",
    "\n",
    "> **Another Note:** Toward the end of the course, I will introduce you to a tool that _automatically_ reformats your code to comply with PEP8 conventions for things like spaces and line breaks. However it won't affect your variable naming so please try to follow the above naming conventions for readability and consistency."
   ]
  },
  {
   "cell_type": "markdown",
   "id": "7d96151e-1438-414a-b7a1-1a5e4fa27889",
   "metadata": {},
   "source": [
    "# Your turn!\n",
    "\n",
    "In the code cell below, try writing some simple Python code similar to the above example to determine the deflection of a simply supported beam with the well-known formula:\n",
    "\n",
    "$$\n",
    "\\Delta = \\frac{5qL^4}{384EI}\n",
    "$$\n",
    "\n",
    "Create variables for `q`, `L`, `E`, and `I`. Then create a variable for the delta and calculate it. Be sure to add comments to describe your assumptions on the units used for inputs. \n",
    "\n",
    "Last, use the `print` function to output the value of your calculated delta. Try and copy/apply the technique I used in the above example to output my calculated value in a sentence (even though I did not explain it to you; I will talk about it in detail in Lesson 01).\n",
    "\n",
    "If you get a `SyntaxError`, see if you can spot your error and fix it. If you try but cannot fix it, THAT'S OK! You will get more practice with this (we are just in Lesson 00, after all)."
   ]
  },
  {
   "cell_type": "code",
   "execution_count": null,
   "id": "24b38f0c-d104-4f6b-a75f-294b72f1a1b9",
   "metadata": {},
   "outputs": [],
   "source": []
  },
  {
   "cell_type": "markdown",
   "id": "60fe0edf-3564-4aef-aee9-da04b82ecb0b",
   "metadata": {},
   "source": [
    "# Next steps: PyNiteFEA Tutorial\n",
    "\n",
    "Please proceed to \"Lesson 00 - PyNiteFEA Tutorial\". There will be _additional_ Python syntax in this tutorial (notably, the use of braces `{}` and square brackets `[]`) that is largely going to be _unexplained_ for now. I will explain this additional syntax in Lesson 01 but I want you to try using Python to do something productive even though you may not fully understand what's going on. \n",
    "\n",
    "In the tutorial I do a bunch of handwaving and say things like, \"just do this\". Do not worry, I will explain _everything_ in time, most of it will be in Lesson 01.\n",
    "\n",
    "---"
   ]
  },
  {
   "cell_type": "markdown",
   "id": "fbda4bd3-3817-42b0-8f1f-a1dd2eea75c3",
   "metadata": {},
   "source": [
    "# Addendum: Python built-in functions\n",
    "\n",
    "Just like Microsoft Excel, Python comes with several built-in functions. You don't have to memorize all of these (really, you don't; we tend to learn them as we need them and then remember them as we use them). The function names worth remembering right now are the ones that I have **bolded**. If you are curious about what any of the other ones do, you can use `help` to find out! :)\n",
    "\n",
    "* **`help`** - Use `help` to learn how any _object_ in Python works, e.g. `help(print)` or `help(rectangular_section_width)`\n",
    "* **`print`** - Output the given data to the screen (\"the screen\" is also known as \"standard out\" or \"stdout\")\n",
    "* **`dir`** - Use `dir` to learn the names of an object's attributes and methods e.g. `dir(rectangular_section_width)`. More on this \"attributes and methods\" business later.\n",
    "* **`max`** - Find the maximum value in an array of values\n",
    "* **`min`** - Find the minimum value in an array of values\n",
    "* **`round`** - Round a scalar to n number of decimal places\n",
    "* **`abs`** - Return the absolute value of a scalar\n",
    "* **`sum`** - Return the sum of the values in an array\n",
    "* **`len`** - Return the number of elements in an array\n",
    "* **`open`** - Open a file on disk and return a FileHandler object (more on this in Lesson 01)\n",
    "* **`float`** - Convert a Python object to a floating point number (i.e. a decimal number), if possible (e.g. `float(\"23.4\")` will return the number `23.4`)\n",
    "* **`int`** - Similar to the above but convert to an integer if possible (e.g. `int(\"23.4\")` will return the number `23`)\n",
    "* `all`\n",
    "* `any`\n",
    "* `ascii`\n",
    "* `bin`\n",
    "* `bool`\n",
    "* `breakpoint`\n",
    "* `bytearray`\n",
    "* `bytes`\n",
    "* `callable`\n",
    "* `chr`\n",
    "* `classmethod`\n",
    "* `compile`\n",
    "* `complex`\n",
    "* `copyright`\n",
    "* `credits`\n",
    "* `delattr`\n",
    "* `dict`\n",
    "* `display`\n",
    "* `divmod`\n",
    "* `enumerate`\n",
    "* `eval`\n",
    "* `exec`\n",
    "* `execfile`\n",
    "* `filter`\n",
    "* `format`\n",
    "* `frozenset`\n",
    "* `getattr`\n",
    "* `globals`\n",
    "* `hasattr`\n",
    "* `hash`\n",
    "* `hex`\n",
    "* `id`\n",
    "* `input`\n",
    "* `isinstance`\n",
    "* `issubclass`\n",
    "* `iter`\n",
    "* `license`\n",
    "* `list`\n",
    "* `locals`\n",
    "* `map`\n",
    "* `memoryview`\n",
    "* `next`\n",
    "* `object`\n",
    "* `oct`\n",
    "* `ord`\n",
    "* `pow`\n",
    "* `property`\n",
    "* `range`\n",
    "* `repr`\n",
    "* `reversed`\n",
    "* `round`\n",
    "* `runfile`\n",
    "* `set`\n",
    "* `setattr`\n",
    "* `slice`\n",
    "* `sorted`\n",
    "* `staticmethod`\n",
    "* `str`\n",
    "* `super`\n",
    "* `tuple`\n",
    "* `type`\n",
    "* `vars`\n",
    "* `zip`"
   ]
  }
 ],
 "metadata": {
  "kernelspec": {
   "display_name": "pfse",
   "language": "python",
   "name": "pfse"
  },
  "language_info": {
   "codemirror_mode": {
    "name": "ipython",
    "version": 3
   },
   "file_extension": ".py",
   "mimetype": "text/x-python",
   "name": "python",
   "nbconvert_exporter": "python",
   "pygments_lexer": "ipython3",
   "version": "3.9.16"
  }
 },
 "nbformat": 4,
 "nbformat_minor": 5
}
